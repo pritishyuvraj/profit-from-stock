{
 "cells": [
  {
   "cell_type": "code",
   "execution_count": 3,
   "metadata": {},
   "outputs": [],
   "source": [
    "# All import function here\n",
    "from serpapi import GoogleSearch\n",
    "from gsearch.googlesearch import search\n",
    "from pprint import pprint\n",
    "from search_engine_parser.core.engines.google import Search as GoogleSearch\n",
    "import pprint\n",
    "import nest_asyncio\n",
    "import pandas as pd\n",
    "from datetime import datetime, timedelta\n",
    "\n",
    "nest_asyncio.apply()\n",
    "gsearch = GoogleSearch()"
   ]
  },
  {
   "cell_type": "code",
   "execution_count": 22,
   "metadata": {},
   "outputs": [
    {
     "data": {
      "text/plain": [
       "['_SearchResult__repr_',\n",
       " '__class__',\n",
       " '__delattr__',\n",
       " '__dict__',\n",
       " '__dir__',\n",
       " '__doc__',\n",
       " '__eq__',\n",
       " '__format__',\n",
       " '__ge__',\n",
       " '__getattribute__',\n",
       " '__getitem__',\n",
       " '__gt__',\n",
       " '__hash__',\n",
       " '__init__',\n",
       " '__init_subclass__',\n",
       " '__le__',\n",
       " '__len__',\n",
       " '__lt__',\n",
       " '__module__',\n",
       " '__ne__',\n",
       " '__new__',\n",
       " '__reduce__',\n",
       " '__reduce_ex__',\n",
       " '__repr__',\n",
       " '__setattr__',\n",
       " '__sizeof__',\n",
       " '__str__',\n",
       " '__subclasshook__',\n",
       " '__weakref__',\n",
       " 'append',\n",
       " 'keys',\n",
       " 'results']"
      ]
     },
     "execution_count": 22,
     "metadata": {},
     "output_type": "execute_result"
    }
   ],
   "source": [
    "gsearch = GoogleSearch()\n",
    "search_args = ('tesla news stock after:2019-03-08 before:2019-03-10', 1)\n",
    "gresults = gsearch.search(*search_args)\n",
    "# print(gresults['links'])\n",
    "dir(gresults)"
   ]
  },
  {
   "cell_type": "code",
   "execution_count": 24,
   "metadata": {},
   "outputs": [
    {
     "data": {
      "text/plain": [
       "dict_keys(['titles', 'links', 'descriptions'])"
      ]
     },
     "execution_count": 24,
     "metadata": {},
     "output_type": "execute_result"
    }
   ],
   "source": [
    "gresults.keys()"
   ]
  },
  {
   "cell_type": "code",
   "execution_count": 25,
   "metadata": {},
   "outputs": [
    {
     "data": {
      "text/plain": [
       "['TSLA Stock Price | Tesla Inc(NASDAQ:TSLA) stock summaries, charts and news.',\n",
       " '$1,000, 5 Years Later: How Much Would Tesla Stock Be Worth?www.benzinga.com > general > education > 1-000-5-years-later-how-much...',\n",
       " 'Warren Buffett Just Invested $4.1 Billion Into Big Oil - CleanTechnicacleantechnica.com > 2021/02/16 > warren-buffett-just-invested-4-1-billion-...',\n",
       " \"Tesla's dirty little secret: Its net profit doesn't come from selling carswww.mercurynews.com > 2021/02/01 > teslas-dirty-little-secret-its-net-prof...\",\n",
       " 'Why Tesla Stock Fell Sharply on Tuesday | The Motley Foolwww.fool.com > investing > 2021/03/16 > why-tesla-stock-fell-sharply-on-...',\n",
       " 'Mar 9, 2019 · Reading between the lines of the Tesla news circus reveals a very different story than the one Elon Musk puts out.',\n",
       " 'Mar 9, 2019 · Check out the latest earnings call transcript for Tesla. ... In early 2017, SolarCity -- now acquired by Tesla for $2.9 billion in stock and the\\xa0...',\n",
       " 'Mar 10, 2019 · Last month, we announced that we would be winding down many of our stores and moving to online-only sales in order to pass the savings\\xa0...',\n",
       " 'Mar 9, 2019 · Fears of higher taxes spook stock market, Intel CEO says global chip shortage could last two more years, and other news to start your day. 2d ago.',\n",
       " 'Mar 8, 2019 · Left wrote in a report that he expects Tesla shares to rise back to ... To continue reading this article, you must be a Bloomberg News subscriber.',\n",
       " 'Mar 8, 2019 · Tilson predicted earlier this week that Tesla shares would fall below $100 ... view this news as a major step forward,\" Wedbush\\'s Dan Ives said.',\n",
       " 'Mar 8, 2019 · Recent announcements by Tesla have hit the stock hard, but it has been ... company once disparagingly referred to as “Government Motors.”.',\n",
       " \"Mar 10, 2019 · There are many good discussions about financials, latest news items, ... @\\u200bCrowPointParnters did a detailed analysis of Tesla's stock trading\\xa0...\",\n",
       " 'Mar 8, 2019 · The short-seller Andrew Left is changing his tune on Tesla Inc (NASDAQ:TSLA). ... long on Tesla, investors were energized regarding the stock, sending its ... Create your account: sign up and get ahead on news and events\\xa0...']"
      ]
     },
     "execution_count": 25,
     "metadata": {},
     "output_type": "execute_result"
    }
   ],
   "source": [
    "gresults['description']"
   ]
  },
  {
   "cell_type": "code",
   "execution_count": 26,
   "metadata": {},
   "outputs": [
    {
     "data": {
      "text/plain": [
       "['Tesla Inc(NASDAQ:TSLA) Quote, Price, Charts & News | CMLViz.com',\n",
       " 'Tesla investors that bought and held on through a volatile five-year period turned a massive profit. In fact, $1,000 worth of Tesla stock bought in 2016 would be worth about $22,700 today.',\n",
       " 'Buffett has never invested in Tesla but has invested $1.57 billion in GM. He said he would not invest in Tesla in an interview with Yahoo! Finance.',\n",
       " \"It's a lucrative business for Tesla — bringing in $3.3 billion over the course of the last five years, nearly half of that in 2020 alone. The $1.6 billion in regulatory credits it received last year far outweighed Tesla's net income of $721 million — meaning Tesla would have otherwise posted a net loss in 2020.\",\n",
       " 'Shares of Tesla (NASDAQ:TSLA) took a hit on Tuesday. The electric car maker slid by as much as 5.2%, and ended the trading day down by 4.4%. That decline was likely primarily due to a broad pullback in the prices of many growth stocks toward the end of the session.',\n",
       " 'Tesla Has Some Problems | The Motley Fool',\n",
       " \"Is This the Final Nail in the Coffin for Tesla's SolarCity? | The Motley ...\",\n",
       " 'Update on Tesla Stores and Pricing | Tesla',\n",
       " \"Is This the Final Nail in the Coffin for Tesla's SolarCity?\",\n",
       " \"Tesla Says Picture Shared by Investor Isn't the New Model S ...\",\n",
       " \"Tesla Won't Ever Report Another Profitable Quarter: Whitney Tilson\",\n",
       " 'ETF Inclusion Of Tesla: Profits Over Production (NASDAQ:TSLA ...',\n",
       " 'Tesla Short Thesis - Perseid Capital',\n",
       " 'Tesla Inc attracts long bet from Citron short-seller Andrew Left']"
      ]
     },
     "execution_count": 26,
     "metadata": {},
     "output_type": "execute_result"
    }
   ],
   "source": [
    "gresults['titles']"
   ]
  },
  {
   "cell_type": "code",
   "execution_count": 34,
   "metadata": {},
   "outputs": [],
   "source": [
    "csv = pd.read_csv(\"data/tesla_3_months.csv\")"
   ]
  },
  {
   "cell_type": "code",
   "execution_count": 35,
   "metadata": {},
   "outputs": [
    {
     "name": "stdout",
     "output_type": "stream",
     "text": [
      "          Date        Open        High         Low       Close   Adj Close  \\\n",
      "0   2021-01-25  855.000000  900.400024  838.820007  880.799988  880.799988   \n",
      "1   2021-01-26  891.380005  895.900024  871.599976  883.090027  883.090027   \n",
      "2   2021-01-27  870.349976  891.500000  858.659973  864.159973  864.159973   \n",
      "3   2021-01-28  820.000000  848.000000  801.000000  835.429993  835.429993   \n",
      "4   2021-01-29  830.000000  842.409973  780.099976  793.530029  793.530029   \n",
      "..         ...         ...         ...         ...         ...         ...   \n",
      "58  2021-04-19  719.599976  725.400024  691.799988  714.630005  714.630005   \n",
      "59  2021-04-20  717.419983  737.250000  710.690002  718.989990  718.989990   \n",
      "60  2021-04-21  704.770020  744.840027  698.000000  744.119995  744.119995   \n",
      "61  2021-04-22  741.500000  753.770020  718.039978  719.690002  719.690002   \n",
      "62  2021-04-23  719.799988  737.359985  715.460022  729.400024  729.400024   \n",
      "\n",
      "      Volume  \n",
      "0   41173400  \n",
      "1   23131600  \n",
      "2   27334000  \n",
      "3   26378000  \n",
      "4   34990800  \n",
      "..       ...  \n",
      "58  39686200  \n",
      "59  35609000  \n",
      "60  31215500  \n",
      "61  35590300  \n",
      "62  28370000  \n",
      "\n",
      "[63 rows x 7 columns]\n"
     ]
    }
   ],
   "source": [
    "print(csv)"
   ]
  },
  {
   "cell_type": "code",
   "execution_count": 38,
   "metadata": {
    "scrolled": true
   },
   "outputs": [
    {
     "ename": "KeyError",
     "evalue": "'date'",
     "output_type": "error",
     "traceback": [
      "\u001b[0;31m---------------------------------------------------------------------------\u001b[0m",
      "\u001b[0;31mKeyError\u001b[0m                                  Traceback (most recent call last)",
      "\u001b[0;32m/opt/anaconda3/lib/python3.8/site-packages/pandas/core/indexes/base.py\u001b[0m in \u001b[0;36mget_loc\u001b[0;34m(self, key, method, tolerance)\u001b[0m\n\u001b[1;32m   2894\u001b[0m             \u001b[0;32mtry\u001b[0m\u001b[0;34m:\u001b[0m\u001b[0;34m\u001b[0m\u001b[0;34m\u001b[0m\u001b[0m\n\u001b[0;32m-> 2895\u001b[0;31m                 \u001b[0;32mreturn\u001b[0m \u001b[0mself\u001b[0m\u001b[0;34m.\u001b[0m\u001b[0m_engine\u001b[0m\u001b[0;34m.\u001b[0m\u001b[0mget_loc\u001b[0m\u001b[0;34m(\u001b[0m\u001b[0mcasted_key\u001b[0m\u001b[0;34m)\u001b[0m\u001b[0;34m\u001b[0m\u001b[0;34m\u001b[0m\u001b[0m\n\u001b[0m\u001b[1;32m   2896\u001b[0m             \u001b[0;32mexcept\u001b[0m \u001b[0mKeyError\u001b[0m \u001b[0;32mas\u001b[0m \u001b[0merr\u001b[0m\u001b[0;34m:\u001b[0m\u001b[0;34m\u001b[0m\u001b[0;34m\u001b[0m\u001b[0m\n",
      "\u001b[0;32mpandas/_libs/index.pyx\u001b[0m in \u001b[0;36mpandas._libs.index.IndexEngine.get_loc\u001b[0;34m()\u001b[0m\n",
      "\u001b[0;32mpandas/_libs/index.pyx\u001b[0m in \u001b[0;36mpandas._libs.index.IndexEngine.get_loc\u001b[0;34m()\u001b[0m\n",
      "\u001b[0;32mpandas/_libs/hashtable_class_helper.pxi\u001b[0m in \u001b[0;36mpandas._libs.hashtable.PyObjectHashTable.get_item\u001b[0;34m()\u001b[0m\n",
      "\u001b[0;32mpandas/_libs/hashtable_class_helper.pxi\u001b[0m in \u001b[0;36mpandas._libs.hashtable.PyObjectHashTable.get_item\u001b[0;34m()\u001b[0m\n",
      "\u001b[0;31mKeyError\u001b[0m: 'date'",
      "\nThe above exception was the direct cause of the following exception:\n",
      "\u001b[0;31mKeyError\u001b[0m                                  Traceback (most recent call last)",
      "\u001b[0;32m<ipython-input-38-888426252ee3>\u001b[0m in \u001b[0;36m<module>\u001b[0;34m\u001b[0m\n\u001b[0;32m----> 1\u001b[0;31m \u001b[0mcsv\u001b[0m\u001b[0;34m[\u001b[0m\u001b[0;34m'date'\u001b[0m\u001b[0;34m]\u001b[0m\u001b[0;34m\u001b[0m\u001b[0;34m\u001b[0m\u001b[0m\n\u001b[0m",
      "\u001b[0;32m/opt/anaconda3/lib/python3.8/site-packages/pandas/core/frame.py\u001b[0m in \u001b[0;36m__getitem__\u001b[0;34m(self, key)\u001b[0m\n\u001b[1;32m   2900\u001b[0m             \u001b[0;32mif\u001b[0m \u001b[0mself\u001b[0m\u001b[0;34m.\u001b[0m\u001b[0mcolumns\u001b[0m\u001b[0;34m.\u001b[0m\u001b[0mnlevels\u001b[0m \u001b[0;34m>\u001b[0m \u001b[0;36m1\u001b[0m\u001b[0;34m:\u001b[0m\u001b[0;34m\u001b[0m\u001b[0;34m\u001b[0m\u001b[0m\n\u001b[1;32m   2901\u001b[0m                 \u001b[0;32mreturn\u001b[0m \u001b[0mself\u001b[0m\u001b[0;34m.\u001b[0m\u001b[0m_getitem_multilevel\u001b[0m\u001b[0;34m(\u001b[0m\u001b[0mkey\u001b[0m\u001b[0;34m)\u001b[0m\u001b[0;34m\u001b[0m\u001b[0;34m\u001b[0m\u001b[0m\n\u001b[0;32m-> 2902\u001b[0;31m             \u001b[0mindexer\u001b[0m \u001b[0;34m=\u001b[0m \u001b[0mself\u001b[0m\u001b[0;34m.\u001b[0m\u001b[0mcolumns\u001b[0m\u001b[0;34m.\u001b[0m\u001b[0mget_loc\u001b[0m\u001b[0;34m(\u001b[0m\u001b[0mkey\u001b[0m\u001b[0;34m)\u001b[0m\u001b[0;34m\u001b[0m\u001b[0;34m\u001b[0m\u001b[0m\n\u001b[0m\u001b[1;32m   2903\u001b[0m             \u001b[0;32mif\u001b[0m \u001b[0mis_integer\u001b[0m\u001b[0;34m(\u001b[0m\u001b[0mindexer\u001b[0m\u001b[0;34m)\u001b[0m\u001b[0;34m:\u001b[0m\u001b[0;34m\u001b[0m\u001b[0;34m\u001b[0m\u001b[0m\n\u001b[1;32m   2904\u001b[0m                 \u001b[0mindexer\u001b[0m \u001b[0;34m=\u001b[0m \u001b[0;34m[\u001b[0m\u001b[0mindexer\u001b[0m\u001b[0;34m]\u001b[0m\u001b[0;34m\u001b[0m\u001b[0;34m\u001b[0m\u001b[0m\n",
      "\u001b[0;32m/opt/anaconda3/lib/python3.8/site-packages/pandas/core/indexes/base.py\u001b[0m in \u001b[0;36mget_loc\u001b[0;34m(self, key, method, tolerance)\u001b[0m\n\u001b[1;32m   2895\u001b[0m                 \u001b[0;32mreturn\u001b[0m \u001b[0mself\u001b[0m\u001b[0;34m.\u001b[0m\u001b[0m_engine\u001b[0m\u001b[0;34m.\u001b[0m\u001b[0mget_loc\u001b[0m\u001b[0;34m(\u001b[0m\u001b[0mcasted_key\u001b[0m\u001b[0;34m)\u001b[0m\u001b[0;34m\u001b[0m\u001b[0;34m\u001b[0m\u001b[0m\n\u001b[1;32m   2896\u001b[0m             \u001b[0;32mexcept\u001b[0m \u001b[0mKeyError\u001b[0m \u001b[0;32mas\u001b[0m \u001b[0merr\u001b[0m\u001b[0;34m:\u001b[0m\u001b[0;34m\u001b[0m\u001b[0;34m\u001b[0m\u001b[0m\n\u001b[0;32m-> 2897\u001b[0;31m                 \u001b[0;32mraise\u001b[0m \u001b[0mKeyError\u001b[0m\u001b[0;34m(\u001b[0m\u001b[0mkey\u001b[0m\u001b[0;34m)\u001b[0m \u001b[0;32mfrom\u001b[0m \u001b[0merr\u001b[0m\u001b[0;34m\u001b[0m\u001b[0;34m\u001b[0m\u001b[0m\n\u001b[0m\u001b[1;32m   2898\u001b[0m \u001b[0;34m\u001b[0m\u001b[0m\n\u001b[1;32m   2899\u001b[0m         \u001b[0;32mif\u001b[0m \u001b[0mtolerance\u001b[0m \u001b[0;32mis\u001b[0m \u001b[0;32mnot\u001b[0m \u001b[0;32mNone\u001b[0m\u001b[0;34m:\u001b[0m\u001b[0;34m\u001b[0m\u001b[0;34m\u001b[0m\u001b[0m\n",
      "\u001b[0;31mKeyError\u001b[0m: 'date'"
     ]
    }
   ],
   "source": [
    "csv['date']\n"
   ]
  },
  {
   "cell_type": "code",
   "execution_count": 47,
   "metadata": {},
   "outputs": [],
   "source": [
    "class CreateStockNewsPriceDatabaseClass:\n",
    "    def __init__(self):\n",
    "        self.path_to_csv_for_stock_price = \"data/tesla_3_months.csv\"\n",
    "        self.write_csv_to_file = \"data/tesla_3_months_news_stock_price_data\"\n",
    "        self.days_window = 3\n",
    "        self.stock_name = 'tesla'\n",
    "        self.time_window_for_stock_calculation = 1\n",
    "        \n",
    "    def read_csv_stock_data(self):\n",
    "        csv = pd.read_csv(self.path_to_csv_for_stock_price)\n",
    "        return csv\n",
    "    \n",
    "    def return_title_description(self, end_ds, stock_company_name, days_window=3):\n",
    "        end_date = datetime.strptime(end_ds, '%Y-%m-%d') \n",
    "        end_date_string_format = end_date.strftime(\"%Y-%m-%d\")\n",
    "\n",
    "        start_date = end_date - timedelta(days=days_window)\n",
    "        start_date_string_format = start_date.strftime(\"%Y-%m-%d\")\n",
    "        search_args = (\"{stock_company_name} news stock after:{start_date_string_format} before:{end_date_string_format}\".format(stock_company_name=stock_company_name, start_date_string_format=start_date_string_format, end_date_string_format=end_date_string_format), 1)\n",
    "        gresults = gsearch.search(*search_args)\n",
    "        title = ';'.join(title for title in gresults['titles'])\n",
    "        description = ';'.join(description for description in gresults['description'])\n",
    "        return end_date_string_format, title, description\n",
    "    \n",
    "    def map_stock_news_with_price(self):\n",
    "        stock_price_csv = self.read_csv_stock_data()\n",
    "        titles = []\n",
    "        descriptions = []\n",
    "        price_delta_of_stocks = []\n",
    "        for index, row in stock_price_csv.iterrows():\n",
    "            ds, title, description = self.return_title_description(end_ds=row['Date'], stock_company_name='tesla', days_window=3)\n",
    "            price_delta_of_stock = stock_price_csv['Close'][index+self.time_window_for_stock_calculation] - row['Open'] if index + self.time_window_for_stock_calculation < stock_price_csv.shape[0] else 0\n",
    "            \n",
    "            titles.append(title)\n",
    "            descriptions.append(description)\n",
    "            price_delta_of_stocks.append(price_delta_of_stock)\n",
    "            \n",
    "        stock_price_csv['title'] = titles\n",
    "        stock_price_csv['description'] = descriptions\n",
    "        stock_price_csv['price_delta_of_stock'] = price_delta_of_stocks\n",
    "        self.write_to_csv(stock_price_csv)\n",
    "    \n",
    "    def write_to_csv(self, object_to_write):\n",
    "        self.write_csv_to_file = self.write_csv_to_file + \"_\" + str(self.days_window) + \"_days_\" + str(self.time_window_for_stock_calculation) + \"_delta.csv\"\n",
    "        object_to_write.to_csv(self.write_csv_to_file)\n"
   ]
  },
  {
   "cell_type": "code",
   "execution_count": 48,
   "metadata": {},
   "outputs": [],
   "source": [
    "create_stock_news_price_database_class=CreateStockNewsPriceDatabaseClass()\n",
    "# create_stock_news_price_database_class.return_title_description(end_ds='2019-03-10', stock_company_name='apple', days_window=3)\n",
    "create_stock_news_price_database_class.map_stock_news_with_price()"
   ]
  },
  {
   "cell_type": "code",
   "execution_count": null,
   "metadata": {},
   "outputs": [],
   "source": []
  }
 ],
 "metadata": {
  "kernelspec": {
   "display_name": "Python 3",
   "language": "python",
   "name": "python3"
  },
  "language_info": {
   "codemirror_mode": {
    "name": "ipython",
    "version": 3
   },
   "file_extension": ".py",
   "mimetype": "text/x-python",
   "name": "python",
   "nbconvert_exporter": "python",
   "pygments_lexer": "ipython3",
   "version": "3.8.5"
  }
 },
 "nbformat": 4,
 "nbformat_minor": 4
}
