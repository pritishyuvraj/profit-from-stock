{
 "cells": [
  {
   "cell_type": "code",
   "execution_count": 11,
   "metadata": {},
   "outputs": [
    {
     "data": {
      "application/javascript": [
       "\n",
       "            setTimeout(function() {\n",
       "                var nbb_cell_id = 11;\n",
       "                var nbb_unformatted_code = \"import pandas as pd\\nimport re\\nfrom collections import defaultdict\\nimport numpy as np\\nimport matplotlib.pyplot as plt\\n%matplotlib inline\\n\\n# Pytorch\\nimport torch\\nimport torch.nn as nn\\n\\n# NLTK\\nfrom nltk.corpus import stopwords\\n\\n# Fasttext utils: https://fasttext.cc/docs/en/crawl-vectors.html\\nimport fasttext.util\\n\\nfasttext.util.download_model(\\\"en\\\", if_exists=\\\"ignore\\\")  # English\\n\\n# Model\\nfrom models.model import LSTM\";\n",
       "                var nbb_formatted_code = \"import pandas as pd\\nimport re\\nfrom collections import defaultdict\\nimport numpy as np\\nimport matplotlib.pyplot as plt\\n\\n%matplotlib inline\\n\\n# Pytorch\\nimport torch\\nimport torch.nn as nn\\n\\n# NLTK\\nfrom nltk.corpus import stopwords\\n\\n# Fasttext utils: https://fasttext.cc/docs/en/crawl-vectors.html\\nimport fasttext.util\\n\\nfasttext.util.download_model(\\\"en\\\", if_exists=\\\"ignore\\\")  # English\\n\\n# Model\\nfrom models.model import LSTM\";\n",
       "                var nbb_cells = Jupyter.notebook.get_cells();\n",
       "                for (var i = 0; i < nbb_cells.length; ++i) {\n",
       "                    if (nbb_cells[i].input_prompt_number == nbb_cell_id) {\n",
       "                        if (nbb_cells[i].get_text() == nbb_unformatted_code) {\n",
       "                             nbb_cells[i].set_text(nbb_formatted_code);\n",
       "                        }\n",
       "                        break;\n",
       "                    }\n",
       "                }\n",
       "            }, 500);\n",
       "            "
      ],
      "text/plain": [
       "<IPython.core.display.Javascript object>"
      ]
     },
     "metadata": {},
     "output_type": "display_data"
    }
   ],
   "source": [
    "import pandas as pd\n",
    "import re\n",
    "from collections import defaultdict\n",
    "import numpy as np\n",
    "import matplotlib.pyplot as plt\n",
    "\n",
    "%matplotlib inline\n",
    "\n",
    "# Pytorch\n",
    "import torch\n",
    "import torch.nn as nn\n",
    "\n",
    "# NLTK\n",
    "from nltk.corpus import stopwords\n",
    "\n",
    "# Fasttext utils: https://fasttext.cc/docs/en/crawl-vectors.html\n",
    "import fasttext.util\n",
    "\n",
    "fasttext.util.download_model(\"en\", if_exists=\"ignore\")  # English\n",
    "\n",
    "# Model\n",
    "from models.model import LSTM"
   ]
  },
  {
   "cell_type": "code",
   "execution_count": 2,
   "metadata": {},
   "outputs": [
    {
     "data": {
      "application/javascript": [
       "\n",
       "            setTimeout(function() {\n",
       "                var nbb_cell_id = 2;\n",
       "                var nbb_unformatted_code = \"%load_ext nb_black\";\n",
       "                var nbb_formatted_code = \"%load_ext nb_black\";\n",
       "                var nbb_cells = Jupyter.notebook.get_cells();\n",
       "                for (var i = 0; i < nbb_cells.length; ++i) {\n",
       "                    if (nbb_cells[i].input_prompt_number == nbb_cell_id) {\n",
       "                        if (nbb_cells[i].get_text() == nbb_unformatted_code) {\n",
       "                             nbb_cells[i].set_text(nbb_formatted_code);\n",
       "                        }\n",
       "                        break;\n",
       "                    }\n",
       "                }\n",
       "            }, 500);\n",
       "            "
      ],
      "text/plain": [
       "<IPython.core.display.Javascript object>"
      ]
     },
     "metadata": {},
     "output_type": "display_data"
    }
   ],
   "source": [
    "%load_ext nb_black"
   ]
  },
  {
   "cell_type": "code",
   "execution_count": 3,
   "metadata": {},
   "outputs": [
    {
     "data": {
      "application/javascript": [
       "\n",
       "            setTimeout(function() {\n",
       "                var nbb_cell_id = 3;\n",
       "                var nbb_unformatted_code = \"class TrainTestStockPriceDatasetClass:\\n    def __init__(self):\\n        self.path = \\\"./data/tesla_3_months_news_stock_price_data_3_days_1_delta.csv\\\"\\n        self.raw_data = None\\n        self.ft = fasttext.load_model(\\\"cc.en.300.bin\\\")\\n        self.min_word_count_required = 1\\n        self.max_word_count_acceptable = 4\\n\\n    def loadRawData(self):\\n        self.raw_data = pd.read_csv(self.path)\\n        return self.raw_data\\n\\n    def cleanRawData(self):\\n        for index, row in self.raw_data.iterrows():\\n            (\\n                self.raw_data[\\\"description\\\"][index],\\n                word_count_list,\\n            ) = self.cleanTextUsingNLTK(row[\\\"description\\\"])\\n            #             print(\\n            #                 \\\"\\\\n\\\\n see this -> \\\",\\n            #                 self.raw_data[\\\"description\\\"][index],\\n            #                 word_count_list,\\n            #             )\\n            self.raw_data[\\\"description\\\"][index] = self.convert_sentence_to_embeddings(\\n                self.raw_data[\\\"description\\\"][index]\\n            )\\n\\n    #             print(\\\"\\\\n Word embeddsings -> \\\", self.raw_data[\\\"description\\\"][index])\\n    #             print(\\\"\\\\n The result -> \\\", self.raw_data[\\\"price_delta_of_stock\\\"][index])\\n\\n    def cleanTextUsingNLTK(self, text):\\n        text = [word for word in re.split(r\\\"\\\\W+\\\", text) if word.isalpha()]\\n        clean_text = [\\n            word.lower() for word in text if word not in set(stopwords.words(\\\"english\\\"))\\n        ]\\n        word_count_list = self.findWordCount(clean_text)\\n        clean_text, word_count_list = self.filterListWithWordCount(\\n            clean_text, word_count_list\\n        )\\n        return clean_text, word_count_list\\n\\n    def convert_sentence_to_embeddings(self, sentence):\\n        sentence_embeddings = []\\n        for word_index, word in enumerate(sentence):\\n            if word_index == 10:\\n                break\\n            sentence_embeddings += list(self.ft.get_word_vector(word))\\n        #             Todo: Append dummy vectors if length of the sentence less than certain threshold\\n        return torch.Tensor(sentence_embeddings)\\n\\n    def findWordCount(self, sentence_in_list_type):\\n        unique_word_list_dict = defaultdict(int)\\n        for word in sentence_in_list_type:\\n            unique_word_list_dict[word] += 1\\n        return unique_word_list_dict\\n\\n    def filterListWithWordCount(self, sentence_in_list_type, word_count_list):\\n        for word, word_prescence_count in word_count_list.items():\\n            if (\\n                word_prescence_count <= self.min_word_count_required\\n                or word_prescence_count >= self.max_word_count_acceptable\\n            ):\\n                sentence_in_list_type = [\\n                    word_from_sentence\\n                    for word_from_sentence in sentence_in_list_type\\n                    if word_from_sentence != word\\n                ]\\n        return sentence_in_list_type, {\\n            word: word_count_list[word]\\n            for word in word_count_list\\n            if word_count_list[word] > self.min_word_count_required\\n            and word_count_list[word] < self.max_word_count_acceptable\\n        }\\n\\n    def RetrieveTrainingDataAndLabel(self):\\n        return self.raw_data[\\\"description\\\"], self.raw_data[\\\"price_delta_of_stock\\\"]\";\n",
       "                var nbb_formatted_code = \"class TrainTestStockPriceDatasetClass:\\n    def __init__(self):\\n        self.path = \\\"./data/tesla_3_months_news_stock_price_data_3_days_1_delta.csv\\\"\\n        self.raw_data = None\\n        self.ft = fasttext.load_model(\\\"cc.en.300.bin\\\")\\n        self.min_word_count_required = 1\\n        self.max_word_count_acceptable = 4\\n\\n    def loadRawData(self):\\n        self.raw_data = pd.read_csv(self.path)\\n        return self.raw_data\\n\\n    def cleanRawData(self):\\n        for index, row in self.raw_data.iterrows():\\n            (\\n                self.raw_data[\\\"description\\\"][index],\\n                word_count_list,\\n            ) = self.cleanTextUsingNLTK(row[\\\"description\\\"])\\n            #             print(\\n            #                 \\\"\\\\n\\\\n see this -> \\\",\\n            #                 self.raw_data[\\\"description\\\"][index],\\n            #                 word_count_list,\\n            #             )\\n            self.raw_data[\\\"description\\\"][index] = self.convert_sentence_to_embeddings(\\n                self.raw_data[\\\"description\\\"][index]\\n            )\\n\\n    #             print(\\\"\\\\n Word embeddsings -> \\\", self.raw_data[\\\"description\\\"][index])\\n    #             print(\\\"\\\\n The result -> \\\", self.raw_data[\\\"price_delta_of_stock\\\"][index])\\n\\n    def cleanTextUsingNLTK(self, text):\\n        text = [word for word in re.split(r\\\"\\\\W+\\\", text) if word.isalpha()]\\n        clean_text = [\\n            word.lower() for word in text if word not in set(stopwords.words(\\\"english\\\"))\\n        ]\\n        word_count_list = self.findWordCount(clean_text)\\n        clean_text, word_count_list = self.filterListWithWordCount(\\n            clean_text, word_count_list\\n        )\\n        return clean_text, word_count_list\\n\\n    def convert_sentence_to_embeddings(self, sentence):\\n        sentence_embeddings = []\\n        for word_index, word in enumerate(sentence):\\n            if word_index == 10:\\n                break\\n            sentence_embeddings += list(self.ft.get_word_vector(word))\\n        #             Todo: Append dummy vectors if length of the sentence less than certain threshold\\n        return torch.Tensor(sentence_embeddings)\\n\\n    def findWordCount(self, sentence_in_list_type):\\n        unique_word_list_dict = defaultdict(int)\\n        for word in sentence_in_list_type:\\n            unique_word_list_dict[word] += 1\\n        return unique_word_list_dict\\n\\n    def filterListWithWordCount(self, sentence_in_list_type, word_count_list):\\n        for word, word_prescence_count in word_count_list.items():\\n            if (\\n                word_prescence_count <= self.min_word_count_required\\n                or word_prescence_count >= self.max_word_count_acceptable\\n            ):\\n                sentence_in_list_type = [\\n                    word_from_sentence\\n                    for word_from_sentence in sentence_in_list_type\\n                    if word_from_sentence != word\\n                ]\\n        return sentence_in_list_type, {\\n            word: word_count_list[word]\\n            for word in word_count_list\\n            if word_count_list[word] > self.min_word_count_required\\n            and word_count_list[word] < self.max_word_count_acceptable\\n        }\\n\\n    def RetrieveTrainingDataAndLabel(self):\\n        return self.raw_data[\\\"description\\\"], self.raw_data[\\\"price_delta_of_stock\\\"]\";\n",
       "                var nbb_cells = Jupyter.notebook.get_cells();\n",
       "                for (var i = 0; i < nbb_cells.length; ++i) {\n",
       "                    if (nbb_cells[i].input_prompt_number == nbb_cell_id) {\n",
       "                        if (nbb_cells[i].get_text() == nbb_unformatted_code) {\n",
       "                             nbb_cells[i].set_text(nbb_formatted_code);\n",
       "                        }\n",
       "                        break;\n",
       "                    }\n",
       "                }\n",
       "            }, 500);\n",
       "            "
      ],
      "text/plain": [
       "<IPython.core.display.Javascript object>"
      ]
     },
     "metadata": {},
     "output_type": "display_data"
    }
   ],
   "source": [
    "class TrainTestStockPriceDatasetClass:\n",
    "    def __init__(self):\n",
    "        self.path = \"./data/tesla_3_months_news_stock_price_data_3_days_1_delta.csv\"\n",
    "        self.raw_data = None\n",
    "        self.ft = fasttext.load_model(\"cc.en.300.bin\")\n",
    "        self.min_word_count_required = 1\n",
    "        self.max_word_count_acceptable = 4\n",
    "\n",
    "    def loadRawData(self):\n",
    "        self.raw_data = pd.read_csv(self.path)\n",
    "        return self.raw_data\n",
    "\n",
    "    def cleanRawData(self):\n",
    "        for index, row in self.raw_data.iterrows():\n",
    "            (\n",
    "                self.raw_data[\"description\"][index],\n",
    "                word_count_list,\n",
    "            ) = self.cleanTextUsingNLTK(row[\"description\"])\n",
    "            #             print(\n",
    "            #                 \"\\n\\n see this -> \",\n",
    "            #                 self.raw_data[\"description\"][index],\n",
    "            #                 word_count_list,\n",
    "            #             )\n",
    "            self.raw_data[\"description\"][index] = self.convert_sentence_to_embeddings(\n",
    "                self.raw_data[\"description\"][index]\n",
    "            )\n",
    "\n",
    "    #             print(\"\\n Word embeddsings -> \", self.raw_data[\"description\"][index])\n",
    "    #             print(\"\\n The result -> \", self.raw_data[\"price_delta_of_stock\"][index])\n",
    "\n",
    "    def cleanTextUsingNLTK(self, text):\n",
    "        text = [word for word in re.split(r\"\\W+\", text) if word.isalpha()]\n",
    "        clean_text = [\n",
    "            word.lower() for word in text if word not in set(stopwords.words(\"english\"))\n",
    "        ]\n",
    "        word_count_list = self.findWordCount(clean_text)\n",
    "        clean_text, word_count_list = self.filterListWithWordCount(\n",
    "            clean_text, word_count_list\n",
    "        )\n",
    "        return clean_text, word_count_list\n",
    "\n",
    "    def convert_sentence_to_embeddings(self, sentence):\n",
    "        sentence_embeddings = []\n",
    "        for word_index, word in enumerate(sentence):\n",
    "            if word_index == 10:\n",
    "                break\n",
    "            sentence_embeddings += list(self.ft.get_word_vector(word))\n",
    "        #             Todo: Append dummy vectors if length of the sentence less than certain threshold\n",
    "        return torch.Tensor(sentence_embeddings)\n",
    "\n",
    "    def findWordCount(self, sentence_in_list_type):\n",
    "        unique_word_list_dict = defaultdict(int)\n",
    "        for word in sentence_in_list_type:\n",
    "            unique_word_list_dict[word] += 1\n",
    "        return unique_word_list_dict\n",
    "\n",
    "    def filterListWithWordCount(self, sentence_in_list_type, word_count_list):\n",
    "        for word, word_prescence_count in word_count_list.items():\n",
    "            if (\n",
    "                word_prescence_count <= self.min_word_count_required\n",
    "                or word_prescence_count >= self.max_word_count_acceptable\n",
    "            ):\n",
    "                sentence_in_list_type = [\n",
    "                    word_from_sentence\n",
    "                    for word_from_sentence in sentence_in_list_type\n",
    "                    if word_from_sentence != word\n",
    "                ]\n",
    "        return sentence_in_list_type, {\n",
    "            word: word_count_list[word]\n",
    "            for word in word_count_list\n",
    "            if word_count_list[word] > self.min_word_count_required\n",
    "            and word_count_list[word] < self.max_word_count_acceptable\n",
    "        }\n",
    "\n",
    "    def RetrieveTrainingDataAndLabel(self):\n",
    "        return self.raw_data[\"description\"], self.raw_data[\"price_delta_of_stock\"]"
   ]
  },
  {
   "cell_type": "code",
   "execution_count": 4,
   "metadata": {},
   "outputs": [
    {
     "name": "stderr",
     "output_type": "stream",
     "text": [
      "Warning : `load_model` does not return WordVectorModel or SupervisedModel any more, but a `FastText` object which is very similar.\n",
      "<ipython-input-3-41ccc553e032>:16: SettingWithCopyWarning: \n",
      "A value is trying to be set on a copy of a slice from a DataFrame\n",
      "\n",
      "See the caveats in the documentation: https://pandas.pydata.org/pandas-docs/stable/user_guide/indexing.html#returning-a-view-versus-a-copy\n",
      "  self.raw_data[\"description\"][index],\n",
      "<ipython-input-3-41ccc553e032>:24: SettingWithCopyWarning: \n",
      "A value is trying to be set on a copy of a slice from a DataFrame\n",
      "\n",
      "See the caveats in the documentation: https://pandas.pydata.org/pandas-docs/stable/user_guide/indexing.html#returning-a-view-versus-a-copy\n",
      "  self.raw_data[\"description\"][index] = self.convert_sentence_to_embeddings(\n"
     ]
    },
    {
     "data": {
      "application/javascript": [
       "\n",
       "            setTimeout(function() {\n",
       "                var nbb_cell_id = 4;\n",
       "                var nbb_unformatted_code = \"train_test_stock_price_dataset_class = TrainTestStockPriceDatasetClass()\\ndata = train_test_stock_price_dataset_class.loadRawData()\\ntrain_test_stock_price_dataset_class.cleanRawData()\\ntrain_X, train_Y = train_test_stock_price_dataset_class.RetrieveTrainingDataAndLabel()\";\n",
       "                var nbb_formatted_code = \"train_test_stock_price_dataset_class = TrainTestStockPriceDatasetClass()\\ndata = train_test_stock_price_dataset_class.loadRawData()\\ntrain_test_stock_price_dataset_class.cleanRawData()\\ntrain_X, train_Y = train_test_stock_price_dataset_class.RetrieveTrainingDataAndLabel()\";\n",
       "                var nbb_cells = Jupyter.notebook.get_cells();\n",
       "                for (var i = 0; i < nbb_cells.length; ++i) {\n",
       "                    if (nbb_cells[i].input_prompt_number == nbb_cell_id) {\n",
       "                        if (nbb_cells[i].get_text() == nbb_unformatted_code) {\n",
       "                             nbb_cells[i].set_text(nbb_formatted_code);\n",
       "                        }\n",
       "                        break;\n",
       "                    }\n",
       "                }\n",
       "            }, 500);\n",
       "            "
      ],
      "text/plain": [
       "<IPython.core.display.Javascript object>"
      ]
     },
     "metadata": {},
     "output_type": "display_data"
    }
   ],
   "source": [
    "train_test_stock_price_dataset_class = TrainTestStockPriceDatasetClass()\n",
    "data = train_test_stock_price_dataset_class.loadRawData()\n",
    "train_test_stock_price_dataset_class.cleanRawData()\n",
    "train_X, train_Y = train_test_stock_price_dataset_class.RetrieveTrainingDataAndLabel()"
   ]
  },
  {
   "cell_type": "code",
   "execution_count": 5,
   "metadata": {},
   "outputs": [
    {
     "data": {
      "application/javascript": [
       "\n",
       "            setTimeout(function() {\n",
       "                var nbb_cell_id = 5;\n",
       "                var nbb_unformatted_code = \"model = LSTM()\\nloss_function = nn.MSELoss()\\noptimizer = torch.optim.Adam(model.parameters(), lr=0.001)\";\n",
       "                var nbb_formatted_code = \"model = LSTM()\\nloss_function = nn.MSELoss()\\noptimizer = torch.optim.Adam(model.parameters(), lr=0.001)\";\n",
       "                var nbb_cells = Jupyter.notebook.get_cells();\n",
       "                for (var i = 0; i < nbb_cells.length; ++i) {\n",
       "                    if (nbb_cells[i].input_prompt_number == nbb_cell_id) {\n",
       "                        if (nbb_cells[i].get_text() == nbb_unformatted_code) {\n",
       "                             nbb_cells[i].set_text(nbb_formatted_code);\n",
       "                        }\n",
       "                        break;\n",
       "                    }\n",
       "                }\n",
       "            }, 500);\n",
       "            "
      ],
      "text/plain": [
       "<IPython.core.display.Javascript object>"
      ]
     },
     "metadata": {},
     "output_type": "display_data"
    }
   ],
   "source": [
    "model = LSTM()\n",
    "loss_function = nn.MSELoss()\n",
    "optimizer = torch.optim.Adam(model.parameters(), lr=0.001)"
   ]
  },
  {
   "cell_type": "code",
   "execution_count": 14,
   "metadata": {},
   "outputs": [
    {
     "name": "stdout",
     "output_type": "stream",
     "text": [
      "epoch: 1, loss: 0.007338017225265503\n",
      "epoch: 16, loss: 0.007338096387684345\n",
      "epoch: 31, loss: 0.007338807452470064\n",
      "epoch: 46, loss: 0.0073391832411289215\n",
      "epoch: 61, loss: 0.007337505463510752\n",
      "epoch: 76, loss: 0.0073390076868236065\n",
      "epoch: 91, loss: 0.007337337359786034\n",
      "epoch: 106, loss: 0.007337331306189299\n",
      "epoch: 121, loss: 0.007337391376495361\n",
      "epoch: 136, loss: 0.007337410002946854\n",
      "epoch: 151, loss: 0.0073374551720917225\n",
      "epoch: 166, loss: 0.00733746774494648\n",
      "epoch: 181, loss: 0.007337333634495735\n",
      "epoch: 196, loss: 0.007337778806686401\n",
      "epoch: 211, loss: 0.007339824456721544\n",
      "epoch: 226, loss: 0.00733954505994916\n",
      "epoch: 241, loss: 0.007339713629335165\n",
      "epoch: 256, loss: 0.007343198172748089\n",
      "epoch: 271, loss: 0.007337372284382582\n",
      "epoch: 286, loss: 0.007337342016398907\n",
      "epoch: 301, loss: 0.007337933871895075\n",
      "epoch: 316, loss: 0.007337502669543028\n",
      "epoch: 331, loss: 0.007337317336350679\n",
      "epoch: 346, loss: 0.007337361574172974\n",
      "epoch: 361, loss: 0.007337425369769335\n",
      "epoch: 376, loss: 0.0073375157080590725\n",
      "epoch: 391, loss: 0.007337322924286127\n",
      "epoch: 406, loss: 0.007337318267673254\n",
      "epoch: 421, loss: 0.0073373946361243725\n",
      "epoch: 436, loss: 0.007337317336350679\n",
      "epoch: 451, loss: 0.007337356451898813\n",
      "epoch: 466, loss: 0.007338043302297592\n",
      "epoch: 481, loss: 0.007338111754506826\n",
      "epoch: 496, loss: 0.007337397430092096\n"
     ]
    },
    {
     "data": {
      "image/png": "[encoded data removed]",
      "text/plain": [
       "<Figure size 432x288 with 1 Axes>"
      ]
     },
     "metadata": {
      "needs_background": "light"
     },
     "output_type": "display_data"
    },
    {
     "data": {
      "application/javascript": [
       "\n",
       "            setTimeout(function() {\n",
       "                var nbb_cell_id = 14;\n",
       "                var nbb_unformatted_code = \"epochs = 500\\nloss_per_epoch_list = []\\nfor i in range(epochs):\\n    for index, train_x in enumerate(train_X):\\n        train_x = train_x.view(1, -1)\\n        #         print(\\\"epoch number: \\\", i, train_x.shape, train_X[index].shape, train_Y[index])\\n\\n        optimizer.zero_grad()\\n        model.hidden_cell = (\\n            torch.zeros(1, 1, model.hidden_layer_size),\\n            torch.zeros(1, 1, model.hidden_layer_size),\\n        )\\n        y_pred = model(train_x)\\n\\n        single_loss = loss_function(y_pred, train_x)\\n        single_loss.backward()\\n        optimizer.step()\\n    loss_per_epoch_list.append(single_loss.item())\\n    if i % 15 == 1:\\n        print(\\\"epoch: {}, loss: {}\\\".format(i, single_loss.item()))\\n# print(loss_per_epoch_list)\\nplt.plot(loss_per_epoch_list)\\nplt.show()\";\n",
       "                var nbb_formatted_code = \"epochs = 500\\nloss_per_epoch_list = []\\nfor i in range(epochs):\\n    for index, train_x in enumerate(train_X):\\n        train_x = train_x.view(1, -1)\\n        #         print(\\\"epoch number: \\\", i, train_x.shape, train_X[index].shape, train_Y[index])\\n\\n        optimizer.zero_grad()\\n        model.hidden_cell = (\\n            torch.zeros(1, 1, model.hidden_layer_size),\\n            torch.zeros(1, 1, model.hidden_layer_size),\\n        )\\n        y_pred = model(train_x)\\n\\n        single_loss = loss_function(y_pred, train_x)\\n        single_loss.backward()\\n        optimizer.step()\\n    loss_per_epoch_list.append(single_loss.item())\\n    if i % 15 == 1:\\n        print(\\\"epoch: {}, loss: {}\\\".format(i, single_loss.item()))\\n# print(loss_per_epoch_list)\\nplt.plot(loss_per_epoch_list)\\nplt.show()\";\n",
       "                var nbb_cells = Jupyter.notebook.get_cells();\n",
       "                for (var i = 0; i < nbb_cells.length; ++i) {\n",
       "                    if (nbb_cells[i].input_prompt_number == nbb_cell_id) {\n",
       "                        if (nbb_cells[i].get_text() == nbb_unformatted_code) {\n",
       "                             nbb_cells[i].set_text(nbb_formatted_code);\n",
       "                        }\n",
       "                        break;\n",
       "                    }\n",
       "                }\n",
       "            }, 500);\n",
       "            "
      ],
      "text/plain": [
       "<IPython.core.display.Javascript object>"
      ]
     },
     "metadata": {},
     "output_type": "display_data"
    }
   ],
   "source": [
    "epochs = 500\n",
    "loss_per_epoch_list = []\n",
    "for i in range(epochs):\n",
    "    for index, train_x in enumerate(train_X):\n",
    "        train_x = train_x.view(1, -1)\n",
    "        #         print(\"epoch number: \", i, train_x.shape, train_X[index].shape, train_Y[index])\n",
    "\n",
    "        optimizer.zero_grad()\n",
    "        model.hidden_cell = (\n",
    "            torch.zeros(1, 1, model.hidden_layer_size),\n",
    "            torch.zeros(1, 1, model.hidden_layer_size),\n",
    "        )\n",
    "        y_pred = model(train_x)\n",
    "\n",
    "        single_loss = loss_function(y_pred, train_x)\n",
    "        single_loss.backward()\n",
    "        optimizer.step()\n",
    "    loss_per_epoch_list.append(single_loss.item())\n",
    "    if i % 15 == 1:\n",
    "        print(\"epoch: {}, loss: {}\".format(i, single_loss.item()))\n",
    "# print(loss_per_epoch_list)\n",
    "plt.plot(loss_per_epoch_list)\n",
    "plt.show()"
   ]
  },
  {
   "cell_type": "code",
   "execution_count": null,
   "metadata": {},
   "outputs": [],
   "source": []
  }
 ],
 "metadata": {
  "kernelspec": {
   "display_name": "Python 3",
   "language": "python",
   "name": "python3"
  },
  "language_info": {
   "codemirror_mode": {
    "name": "ipython",
    "version": 3
   },
   "file_extension": ".py",
   "mimetype": "text/x-python",
   "name": "python",
   "nbconvert_exporter": "python",
   "pygments_lexer": "ipython3",
   "version": "3.8.5"
  }
 },
 "nbformat": 4,
 "nbformat_minor": 4
}
