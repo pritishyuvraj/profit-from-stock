{
 "cells": [
  {
   "cell_type": "code",
   "execution_count": 3,
   "metadata": {},
   "outputs": [],
   "source": [
    "# All import function here\n",
    "from serpapi import GoogleSearch\n",
    "from gsearch.googlesearch import search\n",
    "from pprint import pprint\n",
    "from search_engine_parser.core.engines.google import Search as GoogleSearch\n",
    "import pprint\n",
    "import nest_asyncio\n",
    "import pandas as pd\n",
    "from datetime import datetime, timedelta\n",
    "import pandas as pd \n",
    "nest_asyncio.apply()\n",
    "gsearch = GoogleSearch()"
   ]
  },
  {
   "cell_type": "code",
   "execution_count": 2,
   "metadata": {},
   "outputs": [],
   "source": [
    "ranked_stocked_price_path = \"/Users/pyuvraj/CCPP/data_for_profit_from_stock/all_stocks_historical_prices/stocks/ranked_stock_prices.csv\"\n"
   ]
  },
  {
   "cell_type": "code",
   "execution_count": 8,
   "metadata": {},
   "outputs": [],
   "source": [
    "types_of_sector = ['financials', \n",
    "                   'utilities', \n",
    "                   'consumer discretionary',\n",
    "                   'consumer staples',\n",
    "                   'energy',\n",
    "                   'healthcare',\n",
    "                   'industrials',\n",
    "                   'technology',\n",
    "                   'telecom',\n",
    "                   'materials',\n",
    "                   'real estate'\n",
    "                  ]"
   ]
  },
  {
   "cell_type": "code",
   "execution_count": 4,
   "metadata": {},
   "outputs": [],
   "source": [
    "ranked_stocked_price = pd.read_csv(ranked_stocked_price_path)"
   ]
  },
  {
   "cell_type": "code",
   "execution_count": 5,
   "metadata": {},
   "outputs": [
    {
     "name": "stdout",
     "output_type": "stream",
     "text": [
      "     stock_name  stock_growth\n",
      "0       CEI.csv -3.779877e+02\n",
      "1      INPX.csv -3.609980e+02\n",
      "2      CHFS.csv -3.583176e+02\n",
      "3      TRNX.csv -3.518619e+02\n",
      "4       SLS.csv -3.515691e+02\n",
      "...         ...           ...\n",
      "4464     TT.csv  7.229298e+04\n",
      "4465    WEI.csv  1.167866e+05\n",
      "4466    OSW.csv  1.195446e+05\n",
      "4467    JPT.csv  2.849168e+05\n",
      "4468    RCP.csv  1.263946e+06\n",
      "\n",
      "[4469 rows x 2 columns]\n"
     ]
    }
   ],
   "source": [
    "print(ranked_stocked_price)"
   ]
  },
  {
   "cell_type": "code",
   "execution_count": 17,
   "metadata": {},
   "outputs": [
    {
     "name": "stdout",
     "output_type": "stream",
     "text": [
      "0 CEI -377.9876916255227\n",
      "dict_keys(['titles', 'links', 'descriptions'])\n",
      "['Camber Energy, Inc. Common Stock (CEI) Stock Price, Quote, News ...www.nasdaq.com › Market Activity › StocksAbout Featured Snippets', 'Find the latest Camber Energy, Inc. (CEI) stock quote, history, news and other vital information to help you with your stock trading and investing.Missing:  sector | Must include:sector', 'CEI | Complete Camber Energy Inc. stock news by MarketWatch. ... 52 Week Range 0.43 - 3.10; Market Cap $52.23M; Shares Outstanding 58.46M\\xa0...Missing:  sector | Must include:sector', 'View a financial market summary for CEI including stock price quote, trading volume, volatility, options volume, statistics, and other important company\\xa0...', 'If you are looking for stocks with good return, Camber Energy Inc stock can be a bad, high-risk 1-year investment option. Camber Energy Inc real time quote is equal to 0.458 USD at 2021-08-04, but your current investment may be devalued in the future.', 'Camber Energy Stock Forecast: down to 0.06040 USD? - CEI Stock Price ...walletinvestor.com > stock-forecast > cei-stock-prediction', 'Camber Energy, Inc. (CEI) Valuation Measures & Financial Statisticsfinance.yahoo.com > quote > CEI > key-statistics', 'Houston-based Camber Energy Inc. raises doubts about continued ...www.bizjournals.com > houston > news > 2020/02/19 > troubled-houston-...', 'Camber Energy Inc (CEI) Stock Highest Price - Netcialswww.netcials.com > stock-highest-price-nyse-american > CEI-Camber-Ener...', '1 day ago · The stock acknowledged active focus on shares in the current trading ... This company belong to USA Country and part of Energy sector.', 'Stock quote and company snapshot for CAMBER ENERGY INC (CEI), including profile, stock chart, recent news and events, analyst opinions, and research\\xa0...', '... the outstanding shares in CEI. This represents a greater percentage of ownership than at almost any other company in the Oil & Gas Production industry.', \"Zheng, Yaodong ( I 999), An Analysis of China k Capital Markets (Zhongguo ... Zhong Jing Wang http://www.cei.gov.cn/ (1999), 'Opening Up the Service Sector\\xa0...\", 'Camber Energy Inc stocks price quote with latest real-time prices, charts, ... Dividend & Yield 0.00 (0.00%); Most Recent Dividend N/A on N/A; Sectors:.', \"View live Camber Energy, Inc chart to track its stock's price action. Find market predictions, CEI financials and market news.\"]\n",
      "['Key Data', 'Camber Energy, Inc. (CEI) Stock Price, News ... - Yahoo Finance', 'CEI Stock Price | Camber Energy Inc. Stock Quote (U.S.: NYSE ...', 'Volume Chart Camber Energy - (CEI) stock price? - Market ...', 'If you are looking for stocks with good return, Camber Energy Inc stock can be a bad, high-risk 1-year investment option. Camber Energy Inc real time quote is equal to 0.458 USD at 2021-08-04, but your current investment may be devalued in the future.', 'If you are looking for stocks with good return, Camber Energy Inc stock can be a bad, high-risk 1-year investment option. Camber Energy Inc real time quote is equal to 0.458 USD at 2021-08-04, but your current investment may be devalued in the future.', 'Share Statistics', 'The rapid nine-month decline came from its continuing operations and costs associated with its defunct merger with Houston-based Lineal Star Holdings, according to the filing.', 'The highest price of CEI was 7.48. The date of occurrence was 07-09-2019. The corresponding adjusted close was 374.00.\\n...\\n1 Camber Energy Inc (CEI) Stock Highest Price.', 'Hot Condition Now? Camber Energy, (CEI) - The Union Journal', 'CEI | Stock Snapshot - Fidelity', 'CEI - Camber Energy Inc Shareholders - CNNMoney.com', \"The Evolution of the Stock Market in China's Transitional Economy\", 'CEI - Camber Energy Stock Price - Barchart.com', 'CEI Stock Price and Chart — AMEX:CEI — TradingView']\n",
      "['https://www.google.com/url?q=https://www.nasdaq.com/market-activity/stocks/cei&sa=U&ved=2ahUKEwjxuMqMz5vyAhXCN30KHc4DAFIQFnoECAUQAQ&usg=AOvVaw2EWpsfjcvhMrQQDG1uvuDX', 'https://www.google.com/url?q=https://finance.yahoo.com/quote/CEI/&sa=U&ved=2ahUKEwjxuMqMz5vyAhXCN30KHc4DAFIQFnoECAcQAQ&usg=AOvVaw3F7ofOw9Q5ZilHsUTscUIH', 'https://www.google.com/url?q=https://www.marketwatch.com/investing/stock/cei&sa=U&ved=2ahUKEwjxuMqMz5vyAhXCN30KHc4DAFIQFnoECAkQAQ&usg=AOvVaw1HX48GYUN0C3Vbw9zKawmD', 'https://www.google.com/url?q=https://marketchameleon.com/Overview/CEI/Summary/&sa=U&ved=2ahUKEwjxuMqMz5vyAhXCN30KHc4DAFIQFnoECAAQAQ&usg=AOvVaw1whVdIH0o7AM1lSoux-lTH', 'https://www.google.com/url?q=https://walletinvestor.com/stock-forecast/cei-stock-prediction&sa=U&ved=2ahUKEwjxuMqMz5vyAhXCN30KHc4DAFIQFnoECAsQBQ&usg=AOvVaw2Rs_ioBXHMQy0bJDquo3xb', 'https://www.google.com/url?q=https://walletinvestor.com/stock-forecast/cei-stock-prediction&sa=U&ved=2ahUKEwjxuMqMz5vyAhXCN30KHc4DAFIQFnoECAsQBQ&usg=AOvVaw2Rs_ioBXHMQy0bJDquo3xb', 'https://www.google.com/url?q=https://finance.yahoo.com/quote/CEI/key-statistics/&sa=U&ved=2ahUKEwjxuMqMz5vyAhXCN30KHc4DAFIQFnoECAsQCw&usg=AOvVaw3412zdmA1fvHbKl-S67_ew', 'https://www.google.com/url?q=https://www.bizjournals.com/houston/news/2020/02/19/troubled-houston-energy-co-raises-doubts-about.html&sa=U&ved=2ahUKEwjxuMqMz5vyAhXCN30KHc4DAFIQFnoECAsQFA&usg=AOvVaw2GxcTvOELoj2zYsURoEK5R', 'https://www.google.com/url?q=https://www.netcials.com/stock-highest-price-nyse-american/CEI-Camber-Energy-Inc/&sa=U&ved=2ahUKEwjxuMqMz5vyAhXCN30KHc4DAFIQFnoECAsQGg&usg=AOvVaw0yJV44TPr7xpN6Gp_ZgfN7', 'https://www.google.com/url?q=https://www.theunionjournal.com/hot-condition-now-camber-energy-cei/&sa=U&ved=2ahUKEwjxuMqMz5vyAhXCN30KHc4DAFIQFnoECAYQAQ&usg=AOvVaw2p1lOu6DqPc71CbgE1Yjhc', 'https://www.google.com/url?q=https://eresearch.fidelity.com/eresearch/evaluate/snapshot.jhtml%3Fsymbols%3DCEI&sa=U&ved=2ahUKEwjxuMqMz5vyAhXCN30KHc4DAFIQFnoECAMQAQ&usg=AOvVaw083UBRF3xfbNOqzYJWHTzR', 'https://www.google.com/url?q=https://money.cnn.com/quote/shareholders/shareholders.html%3Fsymb%3DCEI%26subView%3Dinstitutional&sa=U&ved=2ahUKEwjxuMqMz5vyAhXCN30KHc4DAFIQFnoECAEQAQ&usg=AOvVaw0-2GjFePG-Iubnbi5pz_1e', 'https://books.google.com/books?id=yEBmHuHCETYC&pg=PA180&lpg=PA180&dq=which+sector+CEI+stock+belongs+in+stock+market&source=bl&ots=_1CZv1ht98&sig=ACfU3U1nSdiYvaiPknxAgRrCau3zVSB-hw&hl=en&sa=X&ved=2ahUKEwjxuMqMz5vyAhXCN30KHc4DAFIQ6AF6BAgCEAE', 'https://www.google.com/url?q=https://www.barchart.com/stocks/quotes/CEI&sa=U&ved=2ahUKEwjxuMqMz5vyAhXCN30KHc4DAFIQFnoECAoQAQ&usg=AOvVaw2Wtl7pcixN1mBreL-fMe0U', 'https://www.google.com/url?q=https://www.tradingview.com/symbols/AMEX-CEI/&sa=U&ved=2ahUKEwjxuMqMz5vyAhXCN30KHc4DAFIQFnoECAgQAQ&usg=AOvVaw35OAVG_KZidHyhAu-D6SJ1']\n",
      "1 INPX -360.9979798320176\n",
      "dict_keys(['titles', 'links', 'descriptions'])\n",
      "['Inpixon Common Stock (INPX) Stock Price, Quote, News & History ...www.nasdaq.com › Market Activity › StocksAbout Featured Snippets', 'Jun 25, 2021 · Find the latest Inpixon (INPX) stock quote, history, news and other vital information to help you with your stock trading and investing.', 'Top 10 Owners of Inpixon', 'INPX - Inpixon Shareholders - CNNMoney.commoney.cnn.com > quote > shareholders > shareholders > symb=INPX', 'Inpixon - Company Profile and News - Bloomberg Marketswww.bloomberg.com > profile > company > INPX:US', 'INPX | Inpixon Analyst Estimates & Rating – WSJ - Wall Street Journalwww.wsj.com > market-data > quotes > INPX > research-ratings', 'View a financial market summary for INPX including stock price quote, trading volume, volatility, options volume, statistics, and other important company\\xa0...', 'Is a component of indices and it is traded on NASDAQ exchange. The company belongs in the Software industry, Technology sector and employs 109 people. Inpixon\\xa0...', 'INPX | Complete Inpixon stock news by MarketWatch. ... 52 Week Range 0.9207 - 2.8900; Market Cap $114.02M; Shares Outstanding 111.78M; Public Float 108.33M\\xa0...Missing:  sector | Must include:sector', 'Company profile for Inpixon (INPX) including business summary, key statistics, ratios, sector.', 'Institutional investors purchased a net $1.8 million shares of INPX during ... Services industry and highlights that the smart money sees this stock as an\\xa0...', \"View live Inpixon chart to track its stock's price action. Find market predictions, INPX financials and market news.\", 'Stock quote and company snapshot for INPIXON (INPX), including profile, stock chart, recent news and events, ... Primary Exchange, NASDAQ-NMS\\xa0...', \"Feb 5, 2021 · The market has been high on Inpixon (INPX) stock recently. INPX gets a Bullish score from InvestorsObserver's Stock Sentiment Indicator.\"]\n",
      "['Key Data', 'Inpixon (INPX) Stock Price, News, Quote & History - Yahoo Finance', 'Top 10 Owners of Inpixon', 'Top 10 Owners of Inpixon', 'Inpixon operates as a technology product company. The Company provides indoor positioning and data analytics to improve security, manage assets, and discover opportunities by combining data from the physical and digital worlds.', 'Stock Price Target INPX', 'INPX Stock Quote | Price Chart | Volume Chart Inpixon - Market ...', 'INPX Inpixon stock - Finscreener', 'INPX Stock Price | Inpixon Stock Quote (U.S.: Nasdaq) | MarketWatch', 'INPX - Inpixon Stock Profile - Barchart.com', 'INPX - Inpixon Shareholders - CNNMoney.com', 'INPX Stock Price and Chart — NASDAQ:INPX — TradingView', 'INPX | Stock Snapshot - Fidelity', \"What is the Market's View on Inpixon (INPX) Stock's Price and ...\"]\n",
      "['https://www.google.com/url?q=https://www.nasdaq.com/market-activity/stocks/inpx&sa=U&ved=2ahUKEwil_PeMz5vyAhXVJjQIHTmWCyAQFnoECAQQAQ&usg=AOvVaw3Wuh1uSX-d75-CJRmvOFed', 'https://www.google.com/url?q=https://finance.yahoo.com/quote/INPX/&sa=U&ved=2ahUKEwil_PeMz5vyAhXVJjQIHTmWCyAQFnoECAYQAQ&usg=AOvVaw2eQH3RmTgdMyXRlgfUc8gh', 'https://www.google.com/url?q=https://money.cnn.com/quote/shareholders/shareholders.html%3Fsymb%3DINPX%26subView%3Dinstitutional&sa=U&ved=2ahUKEwil_PeMz5vyAhXVJjQIHTmWCyAQFnoECAsQBA&usg=AOvVaw3uzQOZf-OspGYYJRiycRgf', 'https://www.google.com/url?q=https://money.cnn.com/quote/shareholders/shareholders.html%3Fsymb%3DINPX%26subView%3Dinstitutional&sa=U&ved=2ahUKEwil_PeMz5vyAhXVJjQIHTmWCyAQFnoECAsQBA&usg=AOvVaw3uzQOZf-OspGYYJRiycRgf', 'https://www.google.com/url?q=https://www.bloomberg.com/profile/company/INPX:US&sa=U&ved=2ahUKEwil_PeMz5vyAhXVJjQIHTmWCyAQFnoECAsQDQ&usg=AOvVaw1wSYJNnh4vjqLfOGJg7d3e', 'https://www.google.com/url?q=https://www.wsj.com/market-data/quotes/INPX/research-ratings&sa=U&ved=2ahUKEwil_PeMz5vyAhXVJjQIHTmWCyAQFnoECAsQEw&usg=AOvVaw2pVkA358AYSeurU-U4iDQh', 'https://www.google.com/url?q=https://marketchameleon.com/Overview/INPX/Summary/&sa=U&ved=2ahUKEwil_PeMz5vyAhXVJjQIHTmWCyAQFnoECAgQAQ&usg=AOvVaw2V32ygF-Vrr0qiUXAo_raS', 'https://www.google.com/url?q=https://www.finscreener.org/inpx-inpixon-40919i&sa=U&ved=2ahUKEwil_PeMz5vyAhXVJjQIHTmWCyAQFnoECAcQAQ&usg=AOvVaw0cFU_S0bin-7Y-ZrX2zrt9', 'https://www.google.com/url?q=https://www.marketwatch.com/investing/stock/inpx&sa=U&ved=2ahUKEwil_PeMz5vyAhXVJjQIHTmWCyAQFnoECAUQAQ&usg=AOvVaw1QFFJdrPXchVzM77PY_6c_', 'https://www.google.com/url?q=https://www.barchart.com/stocks/quotes/INPX/profile&sa=U&ved=2ahUKEwil_PeMz5vyAhXVJjQIHTmWCyAQFnoECAoQAQ&usg=AOvVaw2gMZP_2eppq94BfvV3ZwHv', 'https://www.google.com/url?q=https://money.cnn.com/quote/shareholders/shareholders.html%3Fsymb%3DINPX%26subView%3Dinstitutional&sa=U&ved=2ahUKEwil_PeMz5vyAhXVJjQIHTmWCyAQFnoECAEQAQ&usg=AOvVaw1gmZ9E4OgZIUU0ljH5PxuD', 'https://www.google.com/url?q=https://www.tradingview.com/symbols/NASDAQ-INPX/&sa=U&ved=2ahUKEwil_PeMz5vyAhXVJjQIHTmWCyAQFnoECAAQAQ&usg=AOvVaw3wwHIbXeVfRv7u2nSTfJvZ', 'https://www.google.com/url?q=https://eresearch.fidelity.com/eresearch/evaluate/snapshot.jhtml%3Fsymbols%3DINPX&sa=U&ved=2ahUKEwil_PeMz5vyAhXVJjQIHTmWCyAQFnoECAIQAQ&usg=AOvVaw0OxiWKvDDVn_8XFWVxUp9j', 'https://www.google.com/url?q=https://www.investorsobserver.com/news/stock-update/what-is-the-markets-view-on-inpixon-inpx-stocks-price-and-volume-trends-2&sa=U&ved=2ahUKEwil_PeMz5vyAhXVJjQIHTmWCyAQFnoECAkQAQ&usg=AOvVaw1VYUB7IkIUjFJugc-Vvyir']\n",
      "2 CHFS -358.3176068546092\n",
      "dict_keys(['titles', 'links', 'descriptions'])\n",
      "[\"Rating  3.5     · Review by MarketBeatView CHFS's stock price, price target, earnings, financials, forecast, ... Stock Exchange NASDAQ; Industry Electromedical equipment; Sub-IndustryN/A; Sector\\xa0...\", 'Search for ticker symbols for Stocks, Mutual Funds, ETFs, Indices and Futures on Yahoo! ... Symbol, Name, Last Price, Industry / Category, Type, Exchange\\xa0...', 'Label, Value. Exchange, NASDAQ-CM. Sector, Health Care. Industry, Biotechnology: Electromedical & Electrotherapeutic Apparatus. 1 Year Target, $17.12.', '(Nasdaq:NUWE) is a medical device company dedicated to changing the lives of patients suffering from fluid overload through science, collaboration, and innovation. The Company is focused on developing, manufacturing and commercializing the Aquadex SmartFlow® System for ultrafiltration therapy.', 'CHF Solutions Expands Commercial Focus, Changes Name towww.globenewswire.com > news-release > 2021/04/27 > CHF-Solutions-E...', 'CHF Solutions, Inc. (CHFS) Stock Guide - Finnywww.askfinny.com > posts > CHFS-stock-earnings-forecast-buy-or-sell', 'Medical device company CHF Solutions completes reverse stock ...www.spglobal.com > news-insights > latest-news-headlines > medical-devic...', 'Equity Corporate Actions Alert #2020 - 188 Information Regarding the ...www.nasdaqtrader.com > TraderNews', 'Symbol, Company, Exchange. CVS, CVS Health Corp. NYS. KAVAUSD, Kava USD, KRAKEN. CVSI, CV Sciences Inc. OTC. COVTY, Covestro AG ADR, OTC.Missing:  sector | Must include:sector', 'Stock market sectors — USA. The table below shows sectors along with their overview and performance metrics such as market cap, volume and number of stocks.', \"Get today's Nuwellis Inc stock price and latest NUWE news as well as Nuwellis ... CHF Solutions (NASDAQ:CHFS) announced that Tampa, FL-based James A. Haley\\xa0...\", 'To qualify for this, we look for stocks that have shown tremendous growth in 2019 and which also have a large economic moat and/or trade barriers, which allow\\xa0...', 'CHFS:US has changed to a new ticker symbol. Open. --. Prev Close. 5.28. Volume. 0. Market Cap. --. 1D1M1Y5Y. View Full Chart.Missing:  sector | Must include:sector', 'Cooperative members can subscribe for CHF 300, 500, 1000, 5000 or 10000 shares. This fact has at least two major consequences: on the organizational side,\\xa0...', 'Principal implementers : DTT ( Prime ) , CHF ( Prime ) , Academy for Educational ... USAID will continue to assist with the merged Stock Exchange and\\xa0...']\n",
      "['CHFS Stock Forecast, Price & News (Nuwellis) | MarketBeat', \"Symbols similar to 'chfs' - Yahoo Finance\", 'Nuwellis, Inc. Common Stock (NUWE) Stock Price, Quote, News ...', '(Nasdaq:NUWE) is a medical device company dedicated to changing the lives of patients suffering from fluid overload through science, collaboration, and innovation. The Company is focused on developing, manufacturing and commercializing the Aquadex SmartFlow® System for ultrafiltration therapy.', '(Nasdaq:NUWE) is a medical device company dedicated to changing the lives of patients suffering from fluid overload through science, collaboration, and innovation. The Company is focused on developing, manufacturing and commercializing the Aquadex SmartFlow® System for ultrafiltration therapy.', 'See CHFS profitability chart. CHFS average analyst rating is Strong Buy. See CHFS analyst rating chart. CHFS average analyst price target ($26.63) is above its current price ($3.95).', \"CHF Solutions Inc. said its board approved a 1-for-30 reverse stock split of its shares. The stock split became effective Oct. 16, and the company's stock began trading on a split-adjusted basis at market open Oct. 19.\", '(CHFS) will effect a one-for-thirty (1-30) reverse split of its common stock. The reverse stock split will become effective on Monday, October 19, 2020. In conjunction with the reverse split, the CUSIP number will change to 12542Q870.', 'Stock Ticker Symbol Lookup - MarketWatch', 'Sectors — Stock Market — USA — TradingView', 'Sunshine Heart Stock Price (NUWE) - Investing.com', 'The Top 10 Swiss Stocks - and their potential - Invest in Le Bijou', 'CHFS: Nuwellis Inc Stock Price Quote - Bloomberg - Bloomberg.com', 'Financial Markets and the Banking Sector: Roles and ...', 'Foreign Operations, Export Financing, and Related Programs ...']\n",
      "['https://www.google.com/url?q=https://www.marketbeat.com/stocks/NASDAQ/CHFS/&sa=U&ved=2ahUKEwjKvaONz5vyAhUhL30KHWHgApgQFnoECAgQAQ&usg=AOvVaw0gsg2oBas6rQrw_4-UwLuU', 'https://www.google.com/url?q=https://finance.yahoo.com/quote/CHFS/&sa=U&ved=2ahUKEwjKvaONz5vyAhUhL30KHWHgApgQFnoECAcQAQ&usg=AOvVaw3Gk8Bhnzl7jR-n0L7GlIn6', 'https://www.google.com/url?q=https://www.nasdaq.com/market-activity/stocks/nuwe&sa=U&ved=2ahUKEwjKvaONz5vyAhUhL30KHWHgApgQFnoECAYQAQ&usg=AOvVaw22AvO3gHsXastg0qSq9Mab', 'https://www.google.com/url?q=https://www.globenewswire.com/en/news-release/2021/04/27/2217760/26106/en/CHF-Solutions-Expands-Commercial-Focus-Changes-Name-to-Nuwellis.html&sa=U&ved=2ahUKEwjKvaONz5vyAhUhL30KHWHgApgQFnoECAsQBQ&usg=AOvVaw2vrG4-btCpvAXi7vsUGzYz', 'https://www.google.com/url?q=https://www.globenewswire.com/en/news-release/2021/04/27/2217760/26106/en/CHF-Solutions-Expands-Commercial-Focus-Changes-Name-to-Nuwellis.html&sa=U&ved=2ahUKEwjKvaONz5vyAhUhL30KHWHgApgQFnoECAsQBQ&usg=AOvVaw2vrG4-btCpvAXi7vsUGzYz', 'https://www.google.com/url?q=https://www.askfinny.com/posts/CHFS-stock-earnings-forecast-buy-or-sell&sa=U&ved=2ahUKEwjKvaONz5vyAhUhL30KHWHgApgQFnoECAsQDA&usg=AOvVaw3MG5Dz6cpwJamDYAtU2NNE', 'https://www.google.com/url?q=https://www.spglobal.com/marketintelligence/en/news-insights/latest-news-headlines/medical-device-company-chf-solutions-completes-reverse-stock-split-60786037&sa=U&ved=2ahUKEwjKvaONz5vyAhUhL30KHWHgApgQFnoECAsQEw&usg=AOvVaw0lcnlFTQBYRXp-4biWRXUK', 'https://www.google.com/url?q=https://www.nasdaqtrader.com/TraderNews.aspx%3Fid%3DECA2020-188&sa=U&ved=2ahUKEwjKvaONz5vyAhUhL30KHWHgApgQFnoECAsQGg&usg=AOvVaw0nB4QhTaEu-PjE40TEJSvy', 'https://www.google.com/url?q=https://www.marketwatch.com/investing/stock/chfs&sa=U&ved=2ahUKEwjKvaONz5vyAhUhL30KHWHgApgQFnoECAoQAQ&usg=AOvVaw1OpYgD0fCtlzs9bJoPRsiv', 'https://www.google.com/url?q=https://www.tradingview.com/markets/stocks-usa/sectorandindustry-sector/&sa=U&ved=2ahUKEwjKvaONz5vyAhUhL30KHWHgApgQFnoECAkQAQ&usg=AOvVaw1R_ObdsMRyBRaxx-GRxrqe', 'https://www.google.com/url?q=https://www.investing.com/equities/sunshine-heart-inc&sa=U&ved=2ahUKEwjKvaONz5vyAhUhL30KHWHgApgQFnoECAMQAQ&usg=AOvVaw0vWgPIeRGtPYTmaNwI1YGi', 'https://www.google.com/url?q=https://invest.lebijou.com/insights/stocks/the-top-10-swiss-stocks-and-their-potential/&sa=U&ved=2ahUKEwjKvaONz5vyAhUhL30KHWHgApgQFnoECAAQAQ&usg=AOvVaw14lt8vh8kWXzd83JyLlBbe', 'https://www.google.com/url?q=https://www.bloomberg.com/quote/CHFS:US&sa=U&ved=2ahUKEwjKvaONz5vyAhUhL30KHWHgApgQFnoECAQQAQ&usg=AOvVaw1s7inYS0JVkT2rDo_mddxZ', 'https://books.google.com/books?id=ilqkCgAAQBAJ&pg=PA180&lpg=PA180&dq=which+sector+CHFS+stock+belongs+in+stock+market&source=bl&ots=4srhzzogkn&sig=ACfU3U3l4VYQ6JbzUt71MevpppVfsK90kg&hl=en&sa=X&ved=2ahUKEwjKvaONz5vyAhUhL30KHWHgApgQ6AF6BAgBEAE', 'https://books.google.com/books?id=ijxv4r4Uq0MC&pg=PA1681&lpg=PA1681&dq=which+sector+CHFS+stock+belongs+in+stock+market&source=bl&ots=zeipoNGi4K&sig=ACfU3U1Exq_AGczSVvQ8up95cO2IJ0ytpg&hl=en&sa=X&ved=2ahUKEwjKvaONz5vyAhUhL30KHWHgApgQ6AF6BAgCEAE']\n"
     ]
    }
   ],
   "source": [
    "# getting stock information\n",
    "for index, row in ranked_stocked_price.iterrows():\n",
    "    if index > 2: break\n",
    "    print (index, row['stock_name'][:-4], row['stock_growth'])\n",
    "    text_to_search = 'which sector {} stock belongs in stock market'.format(row['stock_name'][:-4])\n",
    "    search_args = (text_to_search, 1)\n",
    "    print(search)\n",
    "    gresults = gsearch.search(*search_args)\n",
    "    print(gresults.keys())\n",
    "    print(gresults['description'])\n",
    "    print(gresults['titles'])\n",
    "    print(gresults['links'])"
   ]
  },
  {
   "cell_type": "code",
   "execution_count": null,
   "metadata": {},
   "outputs": [],
   "source": []
  }
 ],
 "metadata": {
  "kernelspec": {
   "display_name": "Python 3",
   "language": "python",
   "name": "python3"
  },
  "language_info": {
   "codemirror_mode": {
    "name": "ipython",
    "version": 3
   },
   "file_extension": ".py",
   "mimetype": "text/x-python",
   "name": "python",
   "nbconvert_exporter": "python",
   "pygments_lexer": "ipython3",
   "version": "3.8.5"
  }
 },
 "nbformat": 4,
 "nbformat_minor": 4
}
